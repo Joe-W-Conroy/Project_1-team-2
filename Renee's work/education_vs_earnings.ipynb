{
 "cells": [
  {
   "cell_type": "markdown",
   "metadata": {},
   "source": [
    "Technical Requirements\n",
    "The technical requirements for Project 1 are as follows.\n",
    " Use Pandas to clean and format your data set(s)\n",
    " Create a Jupyter Notebook describing the data exploration and cleanup process\n",
    " Create a Jupyter Notebook illustrating the final data analysis\n",
    " Use Matplotlib to create a total of 6-8 visualizations of your data (ideally, at least 2 per \"question\" you ask of your data)\n",
    " Save PNG images of your visualizations to distribute to the class and instructional team, and for inclusion in your presentation\n",
    " Optionally, use at least one API, if you can find an API with data pertinent to your primary research questions\n",
    " Create a write-up summarizing your major findings. This should include a heading for each \"question\" you asked of your data, and under each heading, a short description of what you found and any relevant plots."
   ]
  },
  {
   "cell_type": "markdown",
   "metadata": {},
   "source": [
    "# How education has affected earnings. \n",
    "\n",
    "The data that was found on the US Bureau of Labor and Statistices contained over 24 tabs of information. The data started in 1979 and stretched through 2018. I concentrated on the education portion of the data. I was personally drawn to this because I entered the work force straight out of high school. I did not attend college until after i was married with children. It was interesting to compare my salaries over the years to what I was seeing in the data provided. I also have two children that have or are very close to graduating college and two more that will be entring college in a few years. It was fun to share this data with them, especially the data that showed the salaries before inflation was taken into account. \n",
    "## The questions that were asked during this portion of the project were:\n",
    "1- how does education affect the an individuals salary?\n",
    "2- what role does gender play in determining the salary based off degree type.\n",
    "\n",
    "Below is the jupyter notebook that walks through my code and my analysis on the data. In the end I only evaluated the high school diploma, some college and college degree data. "
   ]
  },
  {
   "cell_type": "code",
   "execution_count": 1,
   "metadata": {},
   "outputs": [],
   "source": [
    "# Dependencies\n",
    "import csv\n",
    "import os\n",
    "import pandas as pd\n",
    "import matplotlib.pyplot as plt\n",
    "%matplotlib tk\n",
    "import pandas as pd\n",
    "import numpy as np\n",
    "import requests\n",
    "import json\n",
    "import scipy.stats as st\n",
    "import scipy.stats as sts"
   ]
  },
  {
   "cell_type": "code",
   "execution_count": 2,
   "metadata": {},
   "outputs": [],
   "source": [
    "# Store filepath in a variable\n",
    "education_women = \"Education women.csv\"\n",
    "education_men = \"Education men.csv\"\n",
    "education_combo = \"Education COMBO.csv\""
   ]
  },
  {
   "cell_type": "code",
   "execution_count": 3,
   "metadata": {},
   "outputs": [],
   "source": [
    "# Read our Data file with the pandas library\n",
    "education_men_df = pd.read_csv(education_men)\n",
    "education_women_df = pd.read_csv(education_women)\n",
    "education_combo_df = pd.read_csv(education_combo)\n",
    "\n",
    "#print(education_men_df.head())\n",
    "# print(education_women_df.head())\n",
    "#print(education_combo_df.head())\n",
    "#education_combo_df.columns"
   ]
  },
  {
   "cell_type": "code",
   "execution_count": 4,
   "metadata": {},
   "outputs": [],
   "source": [
    "#Combine the data into one single dataset\n",
    "merged_data_table = pd.merge(education_men_df, education_women_df, on= [\"Year\"], how = \"outer\")\n",
    "# merged_data_table.head()\n",
    "# merged_data_table.info()\n",
    "# merged_data_table.columns"
   ]
  },
  {
   "cell_type": "code",
   "execution_count": 5,
   "metadata": {},
   "outputs": [
    {
     "data": {
      "text/plain": [
       "Index(['Year', 'Total > 25YO_x', 'None_x', 'men high school',\n",
       "       'men some college', 'men college degree', 'men', 'Total > 25YO_y',\n",
       "       'None_y', 'women high school', 'women some college',\n",
       "       'women college degree', 'women'],\n",
       "      dtype='object')"
      ]
     },
     "execution_count": 5,
     "metadata": {},
     "output_type": "execute_result"
    }
   ],
   "source": [
    "# All of the columns had to be renamed from the csv file into something that was a bit more manageable. \n",
    "education_rename_df = merged_data_table.rename(columns = {'High school_x':'men high school',\n",
    "       'Associate degree_x':'men some college', 'Bachelor\\ndegree _x':'men college degree', 'Gender_x':'men',\n",
    "       'High school_y':'women high school', 'Associate degree_y': 'women some college',\n",
    "       'Bachelor\\ndegree _y':'women college degree', 'Gender_y':'women'})\n",
    "education_rename_df.head()\n",
    "education_rename_df.columns"
   ]
  },
  {
   "cell_type": "code",
   "execution_count": 6,
   "metadata": {},
   "outputs": [],
   "source": [
    "# Create a loop to remove $$$, commas and change to float \n",
    "list_education_merged = ['Total > 25YO_x', 'None_x', 'men high school',\n",
    "       'men some college', 'men college degree', 'Total > 25YO_y',\n",
    "       'None_y', 'women high school', 'women some college',\n",
    "       'women college degree', ]\n",
    "for c in list_education_merged:\n",
    "    education_rename_df[c]=education_rename_df[c].astype(str)\n",
    "    education_rename_df[c]=education_rename_df[c].str.replace('$',\"\")\n",
    "    education_rename_df[c]=education_rename_df[c].str.replace(',',\"\")\n",
    "    education_rename_df[c]=education_rename_df[c].astype(float)"
   ]
  },
  {
   "cell_type": "code",
   "execution_count": 7,
   "metadata": {},
   "outputs": [
    {
     "data": {
      "text/html": [
       "<div>\n",
       "<style scoped>\n",
       "    .dataframe tbody tr th:only-of-type {\n",
       "        vertical-align: middle;\n",
       "    }\n",
       "\n",
       "    .dataframe tbody tr th {\n",
       "        vertical-align: top;\n",
       "    }\n",
       "\n",
       "    .dataframe thead th {\n",
       "        text-align: right;\n",
       "    }\n",
       "</style>\n",
       "<table border=\"1\" class=\"dataframe\">\n",
       "  <thead>\n",
       "    <tr style=\"text-align: right;\">\n",
       "      <th></th>\n",
       "      <th>Year</th>\n",
       "      <th>Total &gt; 25YO_x</th>\n",
       "      <th>None_x</th>\n",
       "      <th>men high school</th>\n",
       "      <th>men some college</th>\n",
       "      <th>men college degree</th>\n",
       "      <th>men</th>\n",
       "      <th>Total &gt; 25YO_y</th>\n",
       "      <th>None_y</th>\n",
       "      <th>women high school</th>\n",
       "      <th>women some college</th>\n",
       "      <th>women college degree</th>\n",
       "      <th>women</th>\n",
       "    </tr>\n",
       "  </thead>\n",
       "  <tbody>\n",
       "    <tr>\n",
       "      <td>0</td>\n",
       "      <td>1979</td>\n",
       "      <td>1016.0</td>\n",
       "      <td>816.0</td>\n",
       "      <td>997.0</td>\n",
       "      <td>1065.0</td>\n",
       "      <td>1282.0</td>\n",
       "      <td>Men</td>\n",
       "      <td>631.0</td>\n",
       "      <td>492.0</td>\n",
       "      <td>599.0</td>\n",
       "      <td>683.0</td>\n",
       "      <td>854.0</td>\n",
       "      <td>Women</td>\n",
       "    </tr>\n",
       "    <tr>\n",
       "      <td>1</td>\n",
       "      <td>1980</td>\n",
       "      <td>985.0</td>\n",
       "      <td>776.0</td>\n",
       "      <td>951.0</td>\n",
       "      <td>1041.0</td>\n",
       "      <td>1241.0</td>\n",
       "      <td>Men</td>\n",
       "      <td>619.0</td>\n",
       "      <td>477.0</td>\n",
       "      <td>584.0</td>\n",
       "      <td>672.0</td>\n",
       "      <td>843.0</td>\n",
       "      <td>Women</td>\n",
       "    </tr>\n",
       "    <tr>\n",
       "      <td>2</td>\n",
       "      <td>1981</td>\n",
       "      <td>989.0</td>\n",
       "      <td>761.0</td>\n",
       "      <td>947.0</td>\n",
       "      <td>1035.0</td>\n",
       "      <td>1263.0</td>\n",
       "      <td>Men</td>\n",
       "      <td>620.0</td>\n",
       "      <td>465.0</td>\n",
       "      <td>577.0</td>\n",
       "      <td>678.0</td>\n",
       "      <td>846.0</td>\n",
       "      <td>Women</td>\n",
       "    </tr>\n",
       "    <tr>\n",
       "      <td>3</td>\n",
       "      <td>1982</td>\n",
       "      <td>985.0</td>\n",
       "      <td>734.0</td>\n",
       "      <td>937.0</td>\n",
       "      <td>1030.0</td>\n",
       "      <td>1261.0</td>\n",
       "      <td>Men</td>\n",
       "      <td>639.0</td>\n",
       "      <td>461.0</td>\n",
       "      <td>591.0</td>\n",
       "      <td>687.0</td>\n",
       "      <td>867.0</td>\n",
       "      <td>Women</td>\n",
       "    </tr>\n",
       "    <tr>\n",
       "      <td>4</td>\n",
       "      <td>1983</td>\n",
       "      <td>978.0</td>\n",
       "      <td>724.0</td>\n",
       "      <td>933.0</td>\n",
       "      <td>1014.0</td>\n",
       "      <td>1245.0</td>\n",
       "      <td>Men</td>\n",
       "      <td>644.0</td>\n",
       "      <td>469.0</td>\n",
       "      <td>591.0</td>\n",
       "      <td>692.0</td>\n",
       "      <td>887.0</td>\n",
       "      <td>Women</td>\n",
       "    </tr>\n",
       "  </tbody>\n",
       "</table>\n",
       "</div>"
      ],
      "text/plain": [
       "   Year  Total > 25YO_x  None_x  men high school  men some college  \\\n",
       "0  1979          1016.0   816.0            997.0            1065.0   \n",
       "1  1980           985.0   776.0            951.0            1041.0   \n",
       "2  1981           989.0   761.0            947.0            1035.0   \n",
       "3  1982           985.0   734.0            937.0            1030.0   \n",
       "4  1983           978.0   724.0            933.0            1014.0   \n",
       "\n",
       "   men college degree  men  Total > 25YO_y  None_y  women high school  \\\n",
       "0              1282.0  Men           631.0   492.0              599.0   \n",
       "1              1241.0  Men           619.0   477.0              584.0   \n",
       "2              1263.0  Men           620.0   465.0              577.0   \n",
       "3              1261.0  Men           639.0   461.0              591.0   \n",
       "4              1245.0  Men           644.0   469.0              591.0   \n",
       "\n",
       "   women some college  women college degree  women  \n",
       "0               683.0                 854.0  Women  \n",
       "1               672.0                 843.0  Women  \n",
       "2               678.0                 846.0  Women  \n",
       "3               687.0                 867.0  Women  \n",
       "4               692.0                 887.0  Women  "
      ]
     },
     "execution_count": 7,
     "metadata": {},
     "output_type": "execute_result"
    }
   ],
   "source": [
    "# Show the renamed data frame \n",
    "education_rename_df.head()"
   ]
  },
  {
   "cell_type": "markdown",
   "metadata": {},
   "source": [
    "## Create and easy to read table with the means of salary for ech degree type seperated by gender. The is a mean for all of the years in the data set - 1979 - 2018. "
   ]
  },
  {
   "cell_type": "code",
   "execution_count": 8,
   "metadata": {},
   "outputs": [],
   "source": [
    "mean_women_high_school = education_rename_df.groupby(['women']).mean()[\"women high school\"]\n",
    "#print(mean_women_high_school)\n",
    "mean_women_some_college = education_rename_df.groupby(['women']).mean()[\"women some college\"]\n",
    "#print(mean_women_some_college)\n",
    "mean_women_college_degree = education_rename_df.groupby(['women']).mean()[\"women college degree\"]\n",
    "#print(mean_women_college_degree)\n",
    "mean_men_high_school = education_rename_df.groupby(['men']).mean()[\"men high school\"]\n",
    "#print(mean_men_high_school)\n",
    "mean_men_some_college = education_rename_df.groupby(['men']).mean()[\"men some college\"]\n",
    "#print(mean_men_some_college)\n",
    "mean_men_college_degree = education_rename_df.groupby(['men']).mean()[\"men college degree\"]\n",
    "#print(mean_men_college_degree)"
   ]
  },
  {
   "cell_type": "code",
   "execution_count": 9,
   "metadata": {},
   "outputs": [
    {
     "data": {
      "text/html": [
       "<div>\n",
       "<style scoped>\n",
       "    .dataframe tbody tr th:only-of-type {\n",
       "        vertical-align: middle;\n",
       "    }\n",
       "\n",
       "    .dataframe tbody tr th {\n",
       "        vertical-align: top;\n",
       "    }\n",
       "\n",
       "    .dataframe thead th {\n",
       "        text-align: right;\n",
       "    }\n",
       "</style>\n",
       "<table border=\"1\" class=\"dataframe\">\n",
       "  <thead>\n",
       "    <tr style=\"text-align: right;\">\n",
       "      <th></th>\n",
       "      <th>Average Earnings with high school diploma</th>\n",
       "      <th>Average Earnings with some college</th>\n",
       "      <th>Average Earnings with college degree</th>\n",
       "    </tr>\n",
       "    <tr>\n",
       "      <th>men</th>\n",
       "      <th></th>\n",
       "      <th></th>\n",
       "      <th></th>\n",
       "    </tr>\n",
       "  </thead>\n",
       "  <tbody>\n",
       "    <tr>\n",
       "      <td>Men</td>\n",
       "      <td>859.925</td>\n",
       "      <td>994.8</td>\n",
       "      <td>1430.575</td>\n",
       "    </tr>\n",
       "  </tbody>\n",
       "</table>\n",
       "</div>"
      ],
      "text/plain": [
       "     Average Earnings with high school diploma  \\\n",
       "men                                              \n",
       "Men                                    859.925   \n",
       "\n",
       "     Average Earnings with some college  Average Earnings with college degree  \n",
       "men                                                                            \n",
       "Men                               994.8                              1430.575  "
      ]
     },
     "execution_count": 9,
     "metadata": {},
     "output_type": "execute_result"
    }
   ],
   "source": [
    "men_education_summary = pd.DataFrame({\n",
    "                                        \"Average Earnings with high school diploma\":mean_men_high_school,\n",
    "                                       \"Average Earnings with some college\":mean_men_some_college,\n",
    "                                       \"Average Earnings with college degree\":mean_men_college_degree})\n",
    "men_education_summary"
   ]
  },
  {
   "cell_type": "code",
   "execution_count": 10,
   "metadata": {},
   "outputs": [
    {
     "data": {
      "text/html": [
       "<div>\n",
       "<style scoped>\n",
       "    .dataframe tbody tr th:only-of-type {\n",
       "        vertical-align: middle;\n",
       "    }\n",
       "\n",
       "    .dataframe tbody tr th {\n",
       "        vertical-align: top;\n",
       "    }\n",
       "\n",
       "    .dataframe thead th {\n",
       "        text-align: right;\n",
       "    }\n",
       "</style>\n",
       "<table border=\"1\" class=\"dataframe\">\n",
       "  <thead>\n",
       "    <tr style=\"text-align: right;\">\n",
       "      <th></th>\n",
       "      <th>Average Earnings with high school diploma</th>\n",
       "      <th>Average Earnings with some college</th>\n",
       "      <th>Average Earnings with college degree</th>\n",
       "    </tr>\n",
       "    <tr>\n",
       "      <th>women</th>\n",
       "      <th></th>\n",
       "      <th></th>\n",
       "      <th></th>\n",
       "    </tr>\n",
       "  </thead>\n",
       "  <tbody>\n",
       "    <tr>\n",
       "      <td>Women</td>\n",
       "      <td>609.85</td>\n",
       "      <td>723.325</td>\n",
       "      <td>1051.625</td>\n",
       "    </tr>\n",
       "  </tbody>\n",
       "</table>\n",
       "</div>"
      ],
      "text/plain": [
       "       Average Earnings with high school diploma  \\\n",
       "women                                              \n",
       "Women                                     609.85   \n",
       "\n",
       "       Average Earnings with some college  \\\n",
       "women                                       \n",
       "Women                             723.325   \n",
       "\n",
       "       Average Earnings with college degree  \n",
       "women                                        \n",
       "Women                              1051.625  "
      ]
     },
     "execution_count": 10,
     "metadata": {},
     "output_type": "execute_result"
    }
   ],
   "source": [
    "women_education_summary = pd.DataFrame({\n",
    "                                       \"Average Earnings with high school diploma\":mean_women_high_school,\n",
    "                                       \"Average Earnings with some college\":mean_women_some_college,\n",
    "                                       \"Average Earnings with college degree\":mean_women_college_degree})\n",
    "women_education_summary"
   ]
  },
  {
   "cell_type": "code",
   "execution_count": 11,
   "metadata": {},
   "outputs": [
    {
     "data": {
      "image/png": "[encoded data removed]",
      "text/plain": [
       "<Figure size 432x288 with 1 Axes>"
      ]
     },
     "metadata": {
      "needs_background": "light"
     },
     "output_type": "display_data"
    }
   ],
   "source": [
    "# Plot to show men and women with a high school diploma and their average weekly earnings. The delta in 1979 is almost $400!! \n",
    "# The salary for men has decreased a significant amount since 1979, but women's earnings seem to be linear. \n",
    "plt.plot(education_rename_df[\"Year\"],education_rename_df[\"men high school\"], label = \"Men with High School Diploma\")\n",
    "plt.plot(education_rename_df[\"Year\"],education_rename_df[\"women high school\"], label = \"Women with High School Diploma\")\n",
    "plt.savefig('gender high school.png')\n",
    "plt.legend(loc=\"best\")\n",
    "plt.xlabel(\"Year\")\n",
    "plt.ylabel(\"Average Weekly Earnings\");"
   ]
  },
  {
   "cell_type": "code",
   "execution_count": 12,
   "metadata": {},
   "outputs": [
    {
     "data": {
      "image/png": "[encoded data removed]",
      "text/plain": [
       "<Figure size 432x288 with 1 Axes>"
      ]
     },
     "metadata": {
      "needs_background": "light"
     },
     "output_type": "display_data"
    }
   ],
   "source": [
    "# The graph below shows the earning per week for men or women with some college education, this could also include having aquired an assciates degree. \n",
    "# There has not been much change in the women's salary but men's salary once again shows a bit of a shift from 1979 to 2018. \n",
    "# Both genders show the same ebb and flow based off year- The both are on the rise in 1999 to 2005 when the housing market crashed. \n",
    "plt.plot(education_rename_df[\"Year\"],education_rename_df[\"men some college\"], label = \"Men with Associates Degree or some college\")\n",
    "plt.plot(education_rename_df[\"Year\"],education_rename_df[\"women some college\"], label = \"Women with Associates Degree or some college\")\n",
    "plt.savefig('gender associates.png')\n",
    "plt.legend(loc=\"best\")\n",
    "plt.xlabel(\"Year\")\n",
    "plt.ylabel(\"Average Weekly Earnings\");"
   ]
  },
  {
   "cell_type": "code",
   "execution_count": 13,
   "metadata": {},
   "outputs": [
    {
     "data": {
      "image/png": "[encoded data removed]",
      "text/plain": [
       "<Figure size 432x288 with 1 Axes>"
      ]
     },
     "metadata": {
      "needs_background": "light"
     },
     "output_type": "display_data"
    }
   ],
   "source": [
    "# Weekly earnings with a bachelor's degree or higher also shows an uptick in earnings. \n",
    "# This category does not have as many dips or the dips are not as extreme as in the previous two degree types. \n",
    "# There is still a significant gap between the genders, with the average salary gap around $500. That is over $25,000 a year!\n",
    "plt.plot(education_rename_df[\"Year\"],education_rename_df[\"men college degree\"], label = \"Men with Bachelor's or Higher\")\n",
    "plt.plot(education_rename_df[\"Year\"],education_rename_df[\"women college degree\"], label = \"Women with Bachelor's or Higher\")\n",
    "plt.savefig('Gender bachelor.png')\n",
    "plt.legend(loc=\"best\")\n",
    "plt.xlabel(\"Year\")\n",
    "plt.ylabel(\"Average Weekly Earnings\");"
   ]
  },
  {
   "cell_type": "code",
   "execution_count": 14,
   "metadata": {},
   "outputs": [
    {
     "data": {
      "text/plain": [
       "Index(['Year', 'Total,\\n25 years\\nand older',\n",
       "       'Less than a\\nhigh school\\ndiploma',\n",
       "       'High school\\ngraduates, no\\ncollege',\n",
       "       'Some college or associate degree', 'Bachelor's\\ndegree and\\nhigher',\n",
       "       'Gender'],\n",
       "      dtype='object')"
      ]
     },
     "execution_count": 14,
     "metadata": {},
     "output_type": "execute_result"
    }
   ],
   "source": [
    "# The education combo spread sheet was an average of both genders. \n",
    "education_combo_df.columns"
   ]
  },
  {
   "cell_type": "code",
   "execution_count": 15,
   "metadata": {},
   "outputs": [
    {
     "data": {
      "text/html": [
       "<div>\n",
       "<style scoped>\n",
       "    .dataframe tbody tr th:only-of-type {\n",
       "        vertical-align: middle;\n",
       "    }\n",
       "\n",
       "    .dataframe tbody tr th {\n",
       "        vertical-align: top;\n",
       "    }\n",
       "\n",
       "    .dataframe thead th {\n",
       "        text-align: right;\n",
       "    }\n",
       "</style>\n",
       "<table border=\"1\" class=\"dataframe\">\n",
       "  <thead>\n",
       "    <tr style=\"text-align: right;\">\n",
       "      <th></th>\n",
       "      <th>Year</th>\n",
       "      <th>ALL</th>\n",
       "      <th>no high school</th>\n",
       "      <th>high school</th>\n",
       "      <th>some college</th>\n",
       "      <th>college degree</th>\n",
       "      <th>Gender</th>\n",
       "    </tr>\n",
       "  </thead>\n",
       "  <tbody>\n",
       "    <tr>\n",
       "      <td>0</td>\n",
       "      <td>1979</td>\n",
       "      <td>$858</td>\n",
       "      <td>$680</td>\n",
       "      <td>$806</td>\n",
       "      <td>$913</td>\n",
       "      <td>$1,113</td>\n",
       "      <td>Men and Women</td>\n",
       "    </tr>\n",
       "    <tr>\n",
       "      <td>1</td>\n",
       "      <td>1980</td>\n",
       "      <td>831</td>\n",
       "      <td>645</td>\n",
       "      <td>773</td>\n",
       "      <td>884</td>\n",
       "      <td>1,093</td>\n",
       "      <td>Men and Women</td>\n",
       "    </tr>\n",
       "    <tr>\n",
       "      <td>2</td>\n",
       "      <td>1981</td>\n",
       "      <td>819</td>\n",
       "      <td>638</td>\n",
       "      <td>761</td>\n",
       "      <td>862</td>\n",
       "      <td>1,082</td>\n",
       "      <td>Men and Women</td>\n",
       "    </tr>\n",
       "    <tr>\n",
       "      <td>3</td>\n",
       "      <td>1982</td>\n",
       "      <td>820</td>\n",
       "      <td>622</td>\n",
       "      <td>757</td>\n",
       "      <td>880</td>\n",
       "      <td>1,098</td>\n",
       "      <td>Men and Women</td>\n",
       "    </tr>\n",
       "    <tr>\n",
       "      <td>4</td>\n",
       "      <td>1983</td>\n",
       "      <td>825</td>\n",
       "      <td>615</td>\n",
       "      <td>748</td>\n",
       "      <td>873</td>\n",
       "      <td>1,108</td>\n",
       "      <td>Men and Women</td>\n",
       "    </tr>\n",
       "  </tbody>\n",
       "</table>\n",
       "</div>"
      ],
      "text/plain": [
       "   Year    ALL no high school high school some college college degree  \\\n",
       "0  1979  $858           $680        $806         $913         $1,113    \n",
       "1  1980    831            645         773          884          1,093   \n",
       "2  1981    819            638         761          862          1,082   \n",
       "3  1982    820            622         757          880          1,098   \n",
       "4  1983    825            615         748          873          1,108   \n",
       "\n",
       "          Gender  \n",
       "0  Men and Women  \n",
       "1  Men and Women  \n",
       "2  Men and Women  \n",
       "3  Men and Women  \n",
       "4  Men and Women  "
      ]
     },
     "execution_count": 15,
     "metadata": {},
     "output_type": "execute_result"
    }
   ],
   "source": [
    "# Remane the columns in this dataset to somethng easier to read and reference. \n",
    "education_combo_rename_df = education_combo_df.rename(columns = {'Total,\\n25 years\\nand older':'ALL','Less than a\\nhigh school\\ndiploma':'no high school',\n",
    "       'High school\\ngraduates, no\\ncollege':'high school',\n",
    "       'Some college or associate degree':'some college', \"Bachelor's\\ndegree and\\nhigher\":'college degree'})\n",
    "education_combo_rename_df.head()\n",
    "#education_combo_rename_df.columns"
   ]
  },
  {
   "cell_type": "code",
   "execution_count": 16,
   "metadata": {},
   "outputs": [
    {
     "data": {
      "text/html": [
       "<div>\n",
       "<style scoped>\n",
       "    .dataframe tbody tr th:only-of-type {\n",
       "        vertical-align: middle;\n",
       "    }\n",
       "\n",
       "    .dataframe tbody tr th {\n",
       "        vertical-align: top;\n",
       "    }\n",
       "\n",
       "    .dataframe thead th {\n",
       "        text-align: right;\n",
       "    }\n",
       "</style>\n",
       "<table border=\"1\" class=\"dataframe\">\n",
       "  <thead>\n",
       "    <tr style=\"text-align: right;\">\n",
       "      <th></th>\n",
       "      <th>Year</th>\n",
       "      <th>ALL</th>\n",
       "      <th>no high school</th>\n",
       "      <th>high school</th>\n",
       "      <th>some college</th>\n",
       "      <th>college degree</th>\n",
       "      <th>Gender</th>\n",
       "    </tr>\n",
       "  </thead>\n",
       "  <tbody>\n",
       "    <tr>\n",
       "      <td>0</td>\n",
       "      <td>1979</td>\n",
       "      <td>858.0</td>\n",
       "      <td>680.0</td>\n",
       "      <td>806.0</td>\n",
       "      <td>913.0</td>\n",
       "      <td>1113.0</td>\n",
       "      <td>Men and Women</td>\n",
       "    </tr>\n",
       "    <tr>\n",
       "      <td>1</td>\n",
       "      <td>1980</td>\n",
       "      <td>831.0</td>\n",
       "      <td>645.0</td>\n",
       "      <td>773.0</td>\n",
       "      <td>884.0</td>\n",
       "      <td>1093.0</td>\n",
       "      <td>Men and Women</td>\n",
       "    </tr>\n",
       "    <tr>\n",
       "      <td>2</td>\n",
       "      <td>1981</td>\n",
       "      <td>819.0</td>\n",
       "      <td>638.0</td>\n",
       "      <td>761.0</td>\n",
       "      <td>862.0</td>\n",
       "      <td>1082.0</td>\n",
       "      <td>Men and Women</td>\n",
       "    </tr>\n",
       "    <tr>\n",
       "      <td>3</td>\n",
       "      <td>1982</td>\n",
       "      <td>820.0</td>\n",
       "      <td>622.0</td>\n",
       "      <td>757.0</td>\n",
       "      <td>880.0</td>\n",
       "      <td>1098.0</td>\n",
       "      <td>Men and Women</td>\n",
       "    </tr>\n",
       "    <tr>\n",
       "      <td>4</td>\n",
       "      <td>1983</td>\n",
       "      <td>825.0</td>\n",
       "      <td>615.0</td>\n",
       "      <td>748.0</td>\n",
       "      <td>873.0</td>\n",
       "      <td>1108.0</td>\n",
       "      <td>Men and Women</td>\n",
       "    </tr>\n",
       "  </tbody>\n",
       "</table>\n",
       "</div>"
      ],
      "text/plain": [
       "   Year    ALL  no high school  high school  some college  college degree  \\\n",
       "0  1979  858.0           680.0        806.0         913.0          1113.0   \n",
       "1  1980  831.0           645.0        773.0         884.0          1093.0   \n",
       "2  1981  819.0           638.0        761.0         862.0          1082.0   \n",
       "3  1982  820.0           622.0        757.0         880.0          1098.0   \n",
       "4  1983  825.0           615.0        748.0         873.0          1108.0   \n",
       "\n",
       "          Gender  \n",
       "0  Men and Women  \n",
       "1  Men and Women  \n",
       "2  Men and Women  \n",
       "3  Men and Women  \n",
       "4  Men and Women  "
      ]
     },
     "execution_count": 16,
     "metadata": {},
     "output_type": "execute_result"
    }
   ],
   "source": [
    "# Create a loop to remove $$$, commas and change to float\n",
    "list_education_combo = ['ALL','no high school', 'high school', 'some college', 'college degree']\n",
    "for c in list_education_combo:\n",
    "    education_combo_rename_df[c]=education_combo_rename_df[c].astype(str)\n",
    "    education_combo_rename_df[c]=education_combo_rename_df[c].str.replace('$',\"\")\n",
    "    education_combo_rename_df[c]=education_combo_rename_df[c].str.replace(',',\"\")\n",
    "    education_combo_rename_df[c]=education_combo_rename_df[c].astype(float)\n",
    "education_combo_rename_df.head()"
   ]
  },
  {
   "cell_type": "code",
   "execution_count": 17,
   "metadata": {},
   "outputs": [],
   "source": [
    "# Drop the columns not being used in the data.\n",
    "new_combo_education = education_combo_rename_df.drop([\"ALL\",\"no high school\"],axis=1)"
   ]
  },
  {
   "cell_type": "code",
   "execution_count": 18,
   "metadata": {},
   "outputs": [
    {
     "data": {
      "image/png": "[encoded data removed]",
      "text/plain": [
       "<Figure size 2160x720 with 1 Axes>"
      ]
     },
     "metadata": {
      "needs_background": "light"
     },
     "output_type": "display_data"
    }
   ],
   "source": [
    "#this graph will show the breakdown of degree types 2009 - 2018.\n",
    "# The graph below is a side by side representation of all three degree types and there respective earnings for that year. \n",
    "# When both genders are evaluated as a group there is not much of a difference in weekly salary year over year. \n",
    "# This graph does indicate that salary is affected by education, especially when the degree type is a bachelor's or higher. \n",
    "all_in_df = new_combo_education[:]\n",
    "all_in_df.plot('Year',['high school', 'some college', 'college degree'], kind = 'bar', figsize = (30,10))\n",
    "plt.legend(loc=\"best\")\n",
    "plt.xlabel(\"Year\")\n",
    "plt.ylabel(\"Average Weekly Earnings\")\n",
    "plt.savefig('all degree types.png')"
   ]
  },
  {
   "cell_type": "code",
   "execution_count": 19,
   "metadata": {
    "scrolled": true
   },
   "outputs": [
    {
     "name": "stdout",
     "output_type": "stream",
     "text": [
      "The lower quartile of the earnings is: Year              1988.75\n",
      "high school        718.00\n",
      "some college       836.25\n",
      "college degree    1194.75\n",
      "Name: 0.25, dtype: float64\n",
      "The upper quartile of the earnings is: Year              2008.25\n",
      "high school        749.50\n",
      "some college       881.00\n",
      "college degree    1304.25\n",
      "Name: 0.75, dtype: float64\n",
      "The interquartile range of the earnings is: Year               19.50\n",
      "high school        31.50\n",
      "some college       44.75\n",
      "college degree    109.50\n",
      "dtype: float64\n",
      "The the median of the earnings is: Year              1998.5\n",
      "high school        735.0\n",
      "some college       862.5\n",
      "college degree    1266.5\n",
      "Name: 0.5, dtype: float64 \n",
      "Values below Year              1959.500\n",
      "high school        670.750\n",
      "some college       769.125\n",
      "college degree    1030.500\n",
      "dtype: float64 could be outliers.\n",
      "Values above Year              2037.500\n",
      "high school        796.750\n",
      "some college       948.125\n",
      "college degree    1468.500\n",
      "dtype: float64 could be outliers.\n"
     ]
    },
    {
     "data": {
      "image/png": "[encoded data removed]",
      "text/plain": [
       "<Figure size 1440x360 with 1 Axes>"
      ]
     },
     "metadata": {
      "needs_background": "light"
     },
     "output_type": "display_data"
    }
   ],
   "source": [
    "# Boxplot to show the three degree types with the average weekly salaries. It shows the range in salary and and outliers that the data may hold.\n",
    "# The whiskers for the high school salary is very tight, meaning that the salary range is small. This range tends to grow with each degree type. \n",
    "# The quartiles do not overlap from one degree type to the next. I would have expected that there would be some overlap between each.\n",
    "# The median in the high school and some college category apper to be normally distributed within the data. \n",
    "#The bachelor's degree and higher is a bit skewed to the right, or the upper portion of the wisker. \n",
    "all_in_df[:40].plot(x=\"Year\",kind=\"box\", figsize = (20,5))\n",
    "plt.xlabel(\"Year\")\n",
    "plt.savefig('all degree boxplot.png')\n",
    "plt.ylabel(\"Average Weekly Earnings\");\n",
    "\n",
    "high_school_lowerq = all_in_df.quantile(0.25)\n",
    "high_school_upperq = all_in_df.quantile(0.75)\n",
    "high_school_iqr = high_school_upperq-high_school_lowerq\n",
    "\n",
    "print(f\"The lower quartile of the earnings is: {high_school_lowerq}\")\n",
    "print(f\"The upper quartile of the earnings is: {high_school_upperq}\")\n",
    "print(f\"The interquartile range of the earnings is: {high_school_iqr}\")\n",
    "print(f\"The the median of the earnings is: {all_in_df.quantile(0.5)} \")\n",
    "\n",
    "lower_bound = high_school_lowerq - (1.5*high_school_iqr)\n",
    "upper_bound = high_school_upperq + (1.5*high_school_iqr)\n",
    "print(f\"Values below {lower_bound} could be outliers.\")\n",
    "print(f\"Values above {upper_bound} could be outliers.\")"
   ]
  },
  {
   "cell_type": "code",
   "execution_count": 20,
   "metadata": {},
   "outputs": [
    {
     "name": "stderr",
     "output_type": "stream",
     "text": [
      "No handles with labels found to put in legend.\n"
     ]
    },
    {
     "data": {
      "image/png": "[encoded data removed]",
      "text/plain": [
       "<Figure size 432x288 with 1 Axes>"
      ]
     },
     "metadata": {
      "needs_background": "light"
     },
     "output_type": "display_data"
    },
    {
     "data": {
      "text/plain": [
       "<Figure size 432x288 with 0 Axes>"
      ]
     },
     "metadata": {},
     "output_type": "display_data"
    }
   ],
   "source": [
    "# Histogram and line charts for the college dgree (bachelor's or higher) salary per week.\n",
    "# The histogram groups the incomes together by count. The line chart shows tremendous growth from 1979 to 2018. \n",
    "# plt.hist(all_in_df[\"college degree\"])\n",
    "# plt.xlabel('Average Weekly Salary')\n",
    "# plt.ylabel('Counts')\n",
    "# plt.show()\n",
    "# plt.savefig('college degree combo histo.png')\n",
    "plt.plot(all_in_df[\"Year\"],all_in_df['college degree'])\n",
    "plt.xlabel('Year')\n",
    "plt.ylabel('Average Weekly Salary')\n",
    "plt.legend(loc=\"best\")\n",
    "plt.show();\n",
    "plt.savefig('college degree combo.png');"
   ]
  },
  {
   "cell_type": "code",
   "execution_count": 21,
   "metadata": {},
   "outputs": [
    {
     "data": {
      "image/png": "[encoded data removed]",
      "text/plain": [
       "<Figure size 432x288 with 1 Axes>"
      ]
     },
     "metadata": {
      "needs_background": "light"
     },
     "output_type": "display_data"
    }
   ],
   "source": [
    "# The graph below shows all three degree types with the average weekly salary. The college degree salary has increased year over year.\n",
    "# The other two degree types have decreased over since 1979. \n",
    "plt.plot(all_in_df[\"Year\"],all_in_df[\"college degree\"], label = \"college degree\")\n",
    "plt.plot(all_in_df[\"Year\"],all_in_df[\"some college\"], label = \"some college\")\n",
    "plt.plot(all_in_df[\"Year\"],all_in_df[\"high school\"], label = \"high school\")\n",
    "plt.savefig('all in line.png')\n",
    "plt.legend(loc=\"best\")\n",
    "plt.xlabel(\"Year\")\n",
    "plt.ylabel(\"Average Weekly Earnings\");"
   ]
  },
  {
   "cell_type": "code",
   "execution_count": 22,
   "metadata": {},
   "outputs": [
    {
     "data": {
      "text/html": [
       "<div>\n",
       "<style scoped>\n",
       "    .dataframe tbody tr th:only-of-type {\n",
       "        vertical-align: middle;\n",
       "    }\n",
       "\n",
       "    .dataframe tbody tr th {\n",
       "        vertical-align: top;\n",
       "    }\n",
       "\n",
       "    .dataframe thead th {\n",
       "        text-align: right;\n",
       "    }\n",
       "</style>\n",
       "<table border=\"1\" class=\"dataframe\">\n",
       "  <thead>\n",
       "    <tr style=\"text-align: right;\">\n",
       "      <th></th>\n",
       "      <th>Average Earnings with high school diploma</th>\n",
       "      <th>Average Earnings with some college</th>\n",
       "      <th>Average Earnings with college degree</th>\n",
       "    </tr>\n",
       "    <tr>\n",
       "      <th>Gender</th>\n",
       "      <th></th>\n",
       "      <th></th>\n",
       "      <th></th>\n",
       "    </tr>\n",
       "  </thead>\n",
       "  <tbody>\n",
       "    <tr>\n",
       "      <td>Men and Women</td>\n",
       "      <td>735.4</td>\n",
       "      <td>858.15</td>\n",
       "      <td>1239.6</td>\n",
       "    </tr>\n",
       "  </tbody>\n",
       "</table>\n",
       "</div>"
      ],
      "text/plain": [
       "               Average Earnings with high school diploma  \\\n",
       "Gender                                                     \n",
       "Men and Women                                      735.4   \n",
       "\n",
       "               Average Earnings with some college  \\\n",
       "Gender                                              \n",
       "Men and Women                              858.15   \n",
       "\n",
       "               Average Earnings with college degree  \n",
       "Gender                                               \n",
       "Men and Women                                1239.6  "
      ]
     },
     "execution_count": 22,
     "metadata": {},
     "output_type": "execute_result"
    }
   ],
   "source": [
    "mean_high_school = new_combo_education.groupby(['Gender']).mean()[\"high school\"]\n",
    "#print(mean_men_high_school)\n",
    "mean_some_college = new_combo_education.groupby(['Gender']).mean()[\"some college\"]\n",
    "#print(mean_men_some_college)\n",
    "mean_college_degree = new_combo_education.groupby(['Gender']).mean()[\"college degree\"]\n",
    "#print(mean_men_college_degree)\n",
    "combo_education_summary = pd.DataFrame({\n",
    "                                       \"Average Earnings with high school diploma\":mean_high_school,\n",
    "                                       \"Average Earnings with some college\":mean_some_college,\n",
    "                                       \"Average Earnings with college degree\":mean_college_degree})\n",
    "combo_education_summary"
   ]
  },
  {
   "cell_type": "code",
   "execution_count": null,
   "metadata": {},
   "outputs": [],
   "source": []
  }
 ],
 "metadata": {
  "kernelspec": {
   "display_name": "Python 3",
   "language": "python",
   "name": "python3"
  },
  "language_info": {
   "codemirror_mode": {
    "name": "ipython",
    "version": 3
   },
   "file_extension": ".py",
   "mimetype": "text/x-python",
   "name": "python",
   "nbconvert_exporter": "python",
   "pygments_lexer": "ipython3",
   "version": "3.7.4"
  }
 },
 "nbformat": 4,
 "nbformat_minor": 2
}
